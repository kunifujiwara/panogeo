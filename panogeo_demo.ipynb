{
  "cells": [
    {
      "cell_type": "markdown",
      "metadata": {},
      "source": [
        "# panogeo demo\n",
        "\n",
        "End-to-end demo of detection and geolocation from panoramic imagery.\n",
        "\n",
        "Requirements:\n",
        "- Install environment: `conda env create -f environment.yml && conda activate panogeo`\n",
        "- Install package: `pip install -e .`\n",
        "- Prepare a folder of panoramas (equirectangular 2:1)\n",
        "\n"
      ]
    },
    {
      "cell_type": "code",
      "execution_count": 1,
      "metadata": {},
      "outputs": [
        {
          "name": "stdout",
          "output_type": "stream",
          "text": [
            "Creating new Ultralytics Settings v0.0.6 file  \n",
            "View Ultralytics Settings with 'yolo settings' or at 'C:\\Users\\kunih\\AppData\\Roaming\\Ultralytics\\settings.json'\n",
            "Update Settings with 'yolo settings key=value', i.e. 'yolo settings runs_dir=path/to/dir'. For help see https://docs.ultralytics.com/quickstart/#ultralytics-settings.\n",
            "Setup complete.\n"
          ]
        }
      ],
      "source": [
        "# Imports & paths\n",
        "from pathlib import Path\n",
        "from IPython.display import display\n",
        "\n",
        "import pandas as pd\n",
        "\n",
        "from panogeo.cli import main as panogeo_cli\n",
        "\n",
        "# Set your paths\n",
        "IMAGES_DIR = \"./data/images\"           # input panoramas\n",
        "SHIFT_DIR  = \"./data/images_shift\"     # shifted output\n",
        "OUTPUT_DIR = \"./output\"                # outputs\n",
        "CALIB_CSV  = f\"{OUTPUT_DIR}/calib_points.csv\"  # provide or capture via your own tool\n",
        "\n",
        "Path(SHIFT_DIR).mkdir(parents=True, exist_ok=True)\n",
        "Path(OUTPUT_DIR).mkdir(parents=True, exist_ok=True)\n",
        "\n",
        "print(\"Setup complete.\")\n"
      ]
    },
    {
      "cell_type": "code",
      "execution_count": 3,
      "metadata": {},
      "outputs": [
        {
          "name": "stdout",
          "output_type": "stream",
          "text": [
            "Saved 36 image(s) to ./data/images_shift\n"
          ]
        }
      ],
      "source": [
        "# 1) Optional: yaw-shift panoramas so forward faces North (or desired yaw)\n",
        "panogeo_cli([\"shift-pano\", \"--in-dir\", IMAGES_DIR, \"--out-dir\", SHIFT_DIR, \"--degrees\", \"200\"])\n"
      ]
    },
    {
      "cell_type": "code",
      "execution_count": 4,
      "metadata": {},
      "outputs": [
        {
          "name": "stdout",
          "output_type": "stream",
          "text": [
            "\u001b[KDownloading https://github.com/ultralytics/assets/releases/download/v8.3.0/yolov8s.pt to 'yolov8s.pt': 100% ━━━━━━━━━━━━ 21.5MB 34.7MB/s 0.6s0.6s<0.0s\n",
            "Detections saved: ./output\\detections\\detections_all.csv\n"
          ]
        },
        {
          "data": {
            "text/html": [
              "<div>\n",
              "<style scoped>\n",
              "    .dataframe tbody tr th:only-of-type {\n",
              "        vertical-align: middle;\n",
              "    }\n",
              "\n",
              "    .dataframe tbody tr th {\n",
              "        vertical-align: top;\n",
              "    }\n",
              "\n",
              "    .dataframe thead th {\n",
              "        text-align: right;\n",
              "    }\n",
              "</style>\n",
              "<table border=\"1\" class=\"dataframe\">\n",
              "  <thead>\n",
              "    <tr style=\"text-align: right;\">\n",
              "      <th></th>\n",
              "      <th>image</th>\n",
              "      <th>input_path</th>\n",
              "      <th>W</th>\n",
              "      <th>H</th>\n",
              "      <th>bbox_x1</th>\n",
              "      <th>bbox_y1</th>\n",
              "      <th>bbox_x2</th>\n",
              "      <th>bbox_y2</th>\n",
              "      <th>u_px</th>\n",
              "      <th>v_px</th>\n",
              "      <th>conf</th>\n",
              "    </tr>\n",
              "  </thead>\n",
              "  <tbody>\n",
              "    <tr>\n",
              "      <th>0</th>\n",
              "      <td>IMG_20250906_110448_00_008</td>\n",
              "      <td>./data/images_shift\\IMG_20250906_110448_00_008...</td>\n",
              "      <td>11904</td>\n",
              "      <td>5952</td>\n",
              "      <td>5118.839844</td>\n",
              "      <td>3133.550293</td>\n",
              "      <td>5230.365234</td>\n",
              "      <td>3321.864258</td>\n",
              "      <td>5174.602539</td>\n",
              "      <td>3321.864258</td>\n",
              "      <td>0.886771</td>\n",
              "    </tr>\n",
              "    <tr>\n",
              "      <th>1</th>\n",
              "      <td>IMG_20250906_110448_00_008</td>\n",
              "      <td>./data/images_shift\\IMG_20250906_110448_00_008...</td>\n",
              "      <td>11904</td>\n",
              "      <td>5952</td>\n",
              "      <td>2915.220215</td>\n",
              "      <td>3134.776367</td>\n",
              "      <td>3010.488525</td>\n",
              "      <td>3282.270996</td>\n",
              "      <td>2962.854370</td>\n",
              "      <td>3282.270996</td>\n",
              "      <td>0.828333</td>\n",
              "    </tr>\n",
              "    <tr>\n",
              "      <th>2</th>\n",
              "      <td>IMG_20250906_110448_00_008</td>\n",
              "      <td>./data/images_shift\\IMG_20250906_110448_00_008...</td>\n",
              "      <td>11904</td>\n",
              "      <td>5952</td>\n",
              "      <td>5252.989258</td>\n",
              "      <td>3024.637451</td>\n",
              "      <td>5291.880859</td>\n",
              "      <td>3092.975342</td>\n",
              "      <td>5272.435059</td>\n",
              "      <td>3092.975342</td>\n",
              "      <td>0.819886</td>\n",
              "    </tr>\n",
              "    <tr>\n",
              "      <th>3</th>\n",
              "      <td>IMG_20250906_110448_00_008</td>\n",
              "      <td>./data/images_shift\\IMG_20250906_110448_00_008...</td>\n",
              "      <td>11904</td>\n",
              "      <td>5952</td>\n",
              "      <td>3735.650391</td>\n",
              "      <td>3098.067627</td>\n",
              "      <td>3824.960938</td>\n",
              "      <td>3307.867920</td>\n",
              "      <td>3780.305664</td>\n",
              "      <td>3307.867920</td>\n",
              "      <td>0.790191</td>\n",
              "    </tr>\n",
              "    <tr>\n",
              "      <th>4</th>\n",
              "      <td>IMG_20250906_110448_00_008</td>\n",
              "      <td>./data/images_shift\\IMG_20250906_110448_00_008...</td>\n",
              "      <td>11904</td>\n",
              "      <td>5952</td>\n",
              "      <td>2481.886230</td>\n",
              "      <td>4159.875977</td>\n",
              "      <td>2819.313477</td>\n",
              "      <td>4319.469238</td>\n",
              "      <td>2650.599854</td>\n",
              "      <td>4319.469238</td>\n",
              "      <td>0.786362</td>\n",
              "    </tr>\n",
              "  </tbody>\n",
              "</table>\n",
              "</div>"
            ],
            "text/plain": [
              "                        image  \\\n",
              "0  IMG_20250906_110448_00_008   \n",
              "1  IMG_20250906_110448_00_008   \n",
              "2  IMG_20250906_110448_00_008   \n",
              "3  IMG_20250906_110448_00_008   \n",
              "4  IMG_20250906_110448_00_008   \n",
              "\n",
              "                                          input_path      W     H  \\\n",
              "0  ./data/images_shift\\IMG_20250906_110448_00_008...  11904  5952   \n",
              "1  ./data/images_shift\\IMG_20250906_110448_00_008...  11904  5952   \n",
              "2  ./data/images_shift\\IMG_20250906_110448_00_008...  11904  5952   \n",
              "3  ./data/images_shift\\IMG_20250906_110448_00_008...  11904  5952   \n",
              "4  ./data/images_shift\\IMG_20250906_110448_00_008...  11904  5952   \n",
              "\n",
              "       bbox_x1      bbox_y1      bbox_x2      bbox_y2         u_px  \\\n",
              "0  5118.839844  3133.550293  5230.365234  3321.864258  5174.602539   \n",
              "1  2915.220215  3134.776367  3010.488525  3282.270996  2962.854370   \n",
              "2  5252.989258  3024.637451  5291.880859  3092.975342  5272.435059   \n",
              "3  3735.650391  3098.067627  3824.960938  3307.867920  3780.305664   \n",
              "4  2481.886230  4159.875977  2819.313477  4319.469238  2650.599854   \n",
              "\n",
              "          v_px      conf  \n",
              "0  3321.864258  0.886771  \n",
              "1  3282.270996  0.828333  \n",
              "2  3092.975342  0.819886  \n",
              "3  3307.867920  0.790191  \n",
              "4  4319.469238  0.786362  "
            ]
          },
          "metadata": {},
          "output_type": "display_data"
        }
      ],
      "source": [
        "# 2) Detect people in panoramas with tiling\n",
        "panogeo_cli([\n",
        "    \"detect\",\n",
        "    \"--images-dir\", SHIFT_DIR,\n",
        "    \"--output-dir\", OUTPUT_DIR,\n",
        "    \"--model\", \"yolov8s.pt\",\n",
        "    \"--conf\", \"0.20\",\n",
        "    \"--iou\", \"0.50\",\n",
        "])\n",
        "\n",
        "# Inspect aggregate detections\n",
        "agg_csv = f\"{OUTPUT_DIR}/detections/detections_all.csv\"\n",
        "df_det = pd.read_csv(agg_csv)\n",
        "display(df_det.head())\n"
      ]
    },
    {
      "cell_type": "code",
      "execution_count": null,
      "metadata": {},
      "outputs": [],
      "source": [
        "# 3) Calibrate camera rotation from pixel↔geo pairs\n",
        "# Provide a CSV with columns: image,u_px,v_px,lon,lat[,alt_m][,W,H]\n",
        "# Set your known camera location and altitude\n",
        "CAM_LAT       = 35.169237383755025\n",
        "CAM_LON       = 136.90874779113642\n",
        "CAMERA_ALT_M  = 2.2       # camera altitude above local ground mean sea level (approx). Used only to set camera Z in ENU.\n",
        "GROUND_ALT_M  = 0.0       # assumed ground altitude (MSL) when calib alt is absent\n",
        "\n",
        "panogeo_cli([\n",
        "    \"calibrate\",\n",
        "    \"--calib-csv\", CALIB_CSV,\n",
        "    \"--cam-lat\", str(CAM_LAT),\n",
        "    \"--cam-lon\", str(CAM_LON),\n",
        "    \"--camera-alt-m\", str(CAMERA_ALT_M),\n",
        "    \"--ground-alt-m\", str(GROUND_ALT_M),\n",
        "    \"--output-dir\", OUTPUT_DIR,\n",
        "])\n"
      ]
    },
    {
      "cell_type": "code",
      "execution_count": null,
      "metadata": {},
      "outputs": [],
      "source": [
        "# 4) Geolocate detections to ENU and WGS84\n",
        "calib_npz = f\"{OUTPUT_DIR}/calibration_cam2enu.npz\"\n",
        "panogeo_cli([\n",
        "    \"geolocate\",\n",
        "    \"--detections-csv\", agg_csv,\n",
        "    \"--calibration\", calib_npz,\n",
        "    \"--output-dir\", OUTPUT_DIR,\n",
        "])\n",
        "\n",
        "geo_csv = f\"{OUTPUT_DIR}/all_people_geo_calibrated.csv\"\n",
        "df_geo = pd.read_csv(geo_csv)\n",
        "print(f\"Rows: {len(df_geo)}\")\n",
        "display(df_geo.head())\n"
      ]
    },
    {
      "cell_type": "code",
      "execution_count": null,
      "metadata": {},
      "outputs": [],
      "source": [
        "# 5) Folium heatmap (requires folium)\n",
        "try:\n",
        "    import folium\n",
        "    from folium.plugins import HeatMap\n",
        "    m = folium.Map(location=[float(df_geo[\"lat\"].mean()), float(df_geo[\"lon\"].mean())], zoom_start=19, tiles=None)\n",
        "    folium.TileLayer(\n",
        "        tiles=\"https://{s}.basemaps.cartocdn.com/light_all/{z}/{x}/{y}{r}.png\",\n",
        "        attr='© OpenStreetMap contributors © CARTO',\n",
        "        name=\"CartoDB Positron\",\n",
        "    ).add_to(m)\n",
        "    heat_data = [[float(r.lat), float(r.lon), float(getattr(r, \"conf\", 1.0))] for r in df_geo.itertuples()]\n",
        "    HeatMap(heat_data, radius=12, blur=18, min_opacity=0.25, max_zoom=21).add_to(m)\n",
        "    m\n",
        "except Exception as e:\n",
        "    print(\"Folium not available:\", e)\n"
      ]
    }
  ],
  "metadata": {
    "kernelspec": {
      "display_name": "panogeo",
      "language": "python",
      "name": "python3"
    },
    "language_info": {
      "codemirror_mode": {
        "name": "ipython",
        "version": 3
      },
      "file_extension": ".py",
      "mimetype": "text/x-python",
      "name": "python",
      "nbconvert_exporter": "python",
      "pygments_lexer": "ipython3",
      "version": "3.10.19"
    }
  },
  "nbformat": 4,
  "nbformat_minor": 2
}
